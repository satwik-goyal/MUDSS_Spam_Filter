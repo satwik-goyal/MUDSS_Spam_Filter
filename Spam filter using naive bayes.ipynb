{
 "cells": [
  {
   "cell_type": "code",
   "execution_count": 29,
   "id": "9f56c453",
   "metadata": {},
   "outputs": [],
   "source": [
    "import numpy as np\n",
    "import matplotlib.pyplot as plt\n",
    "import pandas as pd\n",
    "import string"
   ]
  },
  {
   "cell_type": "code",
   "execution_count": 30,
   "id": "b41d5cc0",
   "metadata": {},
   "outputs": [
    {
     "data": {
      "text/html": [
       "<div>\n",
       "<style scoped>\n",
       "    .dataframe tbody tr th:only-of-type {\n",
       "        vertical-align: middle;\n",
       "    }\n",
       "\n",
       "    .dataframe tbody tr th {\n",
       "        vertical-align: top;\n",
       "    }\n",
       "\n",
       "    .dataframe thead th {\n",
       "        text-align: right;\n",
       "    }\n",
       "</style>\n",
       "<table border=\"1\" class=\"dataframe\">\n",
       "  <thead>\n",
       "    <tr style=\"text-align: right;\">\n",
       "      <th></th>\n",
       "      <th>v1</th>\n",
       "      <th>v2</th>\n",
       "    </tr>\n",
       "  </thead>\n",
       "  <tbody>\n",
       "    <tr>\n",
       "      <th>0</th>\n",
       "      <td>ham</td>\n",
       "      <td>Tell where you reached</td>\n",
       "    </tr>\n",
       "    <tr>\n",
       "      <th>1</th>\n",
       "      <td>spam</td>\n",
       "      <td>FREE entry into our å£250 weekly comp just sen...</td>\n",
       "    </tr>\n",
       "    <tr>\n",
       "      <th>2</th>\n",
       "      <td>ham</td>\n",
       "      <td>Well at this right I'm gonna have to get up an...</td>\n",
       "    </tr>\n",
       "    <tr>\n",
       "      <th>3</th>\n",
       "      <td>ham</td>\n",
       "      <td>Yup i thk so until e shop closes lor.</td>\n",
       "    </tr>\n",
       "    <tr>\n",
       "      <th>4</th>\n",
       "      <td>ham</td>\n",
       "      <td>Dad says hurry the hell up</td>\n",
       "    </tr>\n",
       "    <tr>\n",
       "      <th>...</th>\n",
       "      <td>...</td>\n",
       "      <td>...</td>\n",
       "    </tr>\n",
       "    <tr>\n",
       "      <th>195</th>\n",
       "      <td>spam</td>\n",
       "      <td>Dear 0776xxxxxxx U've been invited to XCHAT. T...</td>\n",
       "    </tr>\n",
       "    <tr>\n",
       "      <th>196</th>\n",
       "      <td>ham</td>\n",
       "      <td>Alright we're hooked up, where you guys at</td>\n",
       "    </tr>\n",
       "    <tr>\n",
       "      <th>197</th>\n",
       "      <td>ham</td>\n",
       "      <td>Sorry, I'll call later in meeting any thing re...</td>\n",
       "    </tr>\n",
       "    <tr>\n",
       "      <th>198</th>\n",
       "      <td>ham</td>\n",
       "      <td>Jokin only lar... :-) depends on which phone m...</td>\n",
       "    </tr>\n",
       "    <tr>\n",
       "      <th>199</th>\n",
       "      <td>ham</td>\n",
       "      <td>Probably not, still going over some stuff here</td>\n",
       "    </tr>\n",
       "  </tbody>\n",
       "</table>\n",
       "<p>200 rows × 2 columns</p>\n",
       "</div>"
      ],
      "text/plain": [
       "       v1                                                 v2\n",
       "0     ham                             Tell where you reached\n",
       "1    spam  FREE entry into our å£250 weekly comp just sen...\n",
       "2     ham  Well at this right I'm gonna have to get up an...\n",
       "3     ham              Yup i thk so until e shop closes lor.\n",
       "4     ham                         Dad says hurry the hell up\n",
       "..    ...                                                ...\n",
       "195  spam  Dear 0776xxxxxxx U've been invited to XCHAT. T...\n",
       "196   ham         Alright we're hooked up, where you guys at\n",
       "197   ham  Sorry, I'll call later in meeting any thing re...\n",
       "198   ham  Jokin only lar... :-) depends on which phone m...\n",
       "199   ham     Probably not, still going over some stuff here\n",
       "\n",
       "[200 rows x 2 columns]"
      ]
     },
     "execution_count": 30,
     "metadata": {},
     "output_type": "execute_result"
    }
   ],
   "source": [
    "# Reading the data into a pandas dataframe\n",
    "df = pd.read_csv(\"Messages.csv\" , index_col = 0)\n",
    "df.reset_index(drop = True)"
   ]
  },
  {
   "cell_type": "code",
   "execution_count": 31,
   "id": "ded6daed",
   "metadata": {},
   "outputs": [],
   "source": [
    "# Cleaning the data removing Uppercase letters and puntuations\n",
    "df.v2 = df.v2.apply(lambda x : x.lower().translate(str.maketrans(\"\" , \"\" , string.punctuation)))"
   ]
  },
  {
   "cell_type": "code",
   "execution_count": 32,
   "id": "72f3afb6",
   "metadata": {},
   "outputs": [],
   "source": [
    "df_train = df"
   ]
  },
  {
   "cell_type": "code",
   "execution_count": 40,
   "id": "1c141e62",
   "metadata": {},
   "outputs": [
    {
     "data": {
      "text/plain": [
       "v1    0.15\n",
       "v2    0.15\n",
       "dtype: float64"
      ]
     },
     "execution_count": 40,
     "metadata": {},
     "output_type": "execute_result"
    }
   ],
   "source": [
    "df_train.reset_index(drop = True)\n",
    "no_of_spam = df_train[df_train.v1 == \"spam\"].count()\n",
    "pspam = no_of_spam/df.v1.count()\n",
    "pspam"
   ]
  },
  {
   "cell_type": "code",
   "execution_count": 41,
   "id": "bfb01b6b",
   "metadata": {},
   "outputs": [],
   "source": [
    "# word bank\n",
    "spam_words = \"\".join(df_train[df_train.v1 == \"spam\"].v2).split(\" \")\n",
    "ham_words = \"\".join(df_train[df_train.v1 == \"ham\"].v2).split(\" \")\n",
    "common_words = set(spam_words).intersection(set(ham_words))"
   ]
  },
  {
   "cell_type": "code",
   "execution_count": 42,
   "id": "7f310056",
   "metadata": {},
   "outputs": [],
   "source": [
    "spam_train = dict()\n",
    "ham_train = dict()\n",
    "for w in common_words:\n",
    "    spam_train[w] = spam_words.count(w)/len(spam_words)\n",
    "    ham_train[w] = ham_words.count(w)/len(ham_words)\n"
   ]
  },
  {
   "cell_type": "code",
   "execution_count": 43,
   "id": "bfa7dacb",
   "metadata": {},
   "outputs": [],
   "source": [
    "def predict(t, verbose = False):\n",
    "    found_words = [w for w in t if w in spam_train]\n",
    "    spam_p = [spam_train[w] for w in found_words]\n",
    "    ham_p = [ham_train[w] for w in found_words]\n",
    "    if verbose:\n",
    "        data = pd.DataFrame()\n",
    "        data[\"words\"] = found_words\n",
    "        data[\"spam_probability\"] = spam_p\n",
    "        data[\"ham_probability\"] = ham_p\n",
    "        print(data)\n",
    "    spam_score = sum([np.log(p) for p in spam_p]) + np.log(0.15)\n",
    "    ham_score = sum([np.log(p) for p in ham_p]) + np.log(1 - 0.15)\n",
    "    if verbose:\n",
    "        print(\"spam score\" , spam_score)\n",
    "        print(\"ham score\" , ham_score)\n",
    "    return(spam_score >= ham_score)\n",
    "    \n",
    "    \n",
    "    \n"
   ]
  },
  {
   "cell_type": "code",
   "execution_count": null,
   "id": "fe47322e",
   "metadata": {},
   "outputs": [],
   "source": [
    "predict(\"how are you\".split)"
   ]
  }
 ],
 "metadata": {
  "kernelspec": {
   "display_name": "Python 3 (ipykernel)",
   "language": "python",
   "name": "python3"
  },
  "language_info": {
   "codemirror_mode": {
    "name": "ipython",
    "version": 3
   },
   "file_extension": ".py",
   "mimetype": "text/x-python",
   "name": "python",
   "nbconvert_exporter": "python",
   "pygments_lexer": "ipython3",
   "version": "3.10.0"
  }
 },
 "nbformat": 4,
 "nbformat_minor": 5
}
